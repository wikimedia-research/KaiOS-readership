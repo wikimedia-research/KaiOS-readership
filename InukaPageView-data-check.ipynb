{
 "cells": [
  {
   "cell_type": "code",
   "execution_count": 309,
   "metadata": {},
   "outputs": [],
   "source": [
    "import numpy as np\n",
    "import pandas as pd\n",
    "import wmfdata as wmf\n",
    "from wmfdata.utils import pd_display_all, df_to_remarkup\n",
    "\n",
    "import secrets"
   ]
  },
  {
   "cell_type": "code",
   "execution_count": 310,
   "metadata": {},
   "outputs": [],
   "source": [
    "wmf.charting.set_mpl_style()"
   ]
  },
  {
   "cell_type": "code",
   "execution_count": 311,
   "metadata": {},
   "outputs": [],
   "source": [
    "TODAY = pd.datetime.now()"
   ]
  },
  {
   "cell_type": "markdown",
   "metadata": {},
   "source": [
    "# Events and errors by client type"
   ]
  },
  {
   "cell_type": "code",
   "execution_count": 313,
   "metadata": {},
   "outputs": [],
   "source": [
    "daily_events_r = wmf.spark.run(\"\"\"\n",
    "SELECT\n",
    "  CONCAT_WS(\"-\", year, LPAD(month, 2, \"0\"), LPAD(day, 2, \"0\")) AS date,\n",
    "  event.client_type,\n",
    "  COUNT(*)\n",
    "FROM event.inukapageview\n",
    "WHERE\n",
    "  (month = 5 AND day )\n",
    "GROUP BY\n",
    "  event.client_type,\n",
    "  year,\n",
    "  month,\n",
    "  day\n",
    "\"\"\")"
   ]
  },
  {
   "cell_type": "code",
   "execution_count": 320,
   "metadata": {},
   "outputs": [
    {
     "data": {
      "text/html": [
       "<div>\n",
       "<style scoped>\n",
       "    .dataframe tbody tr th:only-of-type {\n",
       "        vertical-align: middle;\n",
       "    }\n",
       "\n",
       "    .dataframe tbody tr th {\n",
       "        vertical-align: top;\n",
       "    }\n",
       "\n",
       "    .dataframe thead tr th {\n",
       "        text-align: left;\n",
       "    }\n",
       "\n",
       "    .dataframe thead tr:last-of-type th {\n",
       "        text-align: right;\n",
       "    }\n",
       "</style>\n",
       "<table border=\"1\" class=\"dataframe\">\n",
       "  <thead>\n",
       "    <tr>\n",
       "      <th></th>\n",
       "      <th colspan=\"4\" halign=\"left\">count(1)</th>\n",
       "    </tr>\n",
       "    <tr>\n",
       "      <th>client_type</th>\n",
       "      <th>android-web</th>\n",
       "      <th>ios-web</th>\n",
       "      <th>kaios-app</th>\n",
       "      <th>kaios-web</th>\n",
       "    </tr>\n",
       "    <tr>\n",
       "      <th>date</th>\n",
       "      <th></th>\n",
       "      <th></th>\n",
       "      <th></th>\n",
       "      <th></th>\n",
       "    </tr>\n",
       "  </thead>\n",
       "  <tbody>\n",
       "    <tr>\n",
       "      <th>2020-03-21</th>\n",
       "      <td>187</td>\n",
       "      <td>1923306</td>\n",
       "      <td>655</td>\n",
       "      <td>10025</td>\n",
       "    </tr>\n",
       "    <tr>\n",
       "      <th>2020-03-22</th>\n",
       "      <td>373</td>\n",
       "      <td>2137102</td>\n",
       "      <td>438</td>\n",
       "      <td>12566</td>\n",
       "    </tr>\n",
       "    <tr>\n",
       "      <th>2020-03-23</th>\n",
       "      <td>170</td>\n",
       "      <td>1799231</td>\n",
       "      <td>1166</td>\n",
       "      <td>11917</td>\n",
       "    </tr>\n",
       "    <tr>\n",
       "      <th>2020-03-24</th>\n",
       "      <td>132</td>\n",
       "      <td>1791527</td>\n",
       "      <td>1294</td>\n",
       "      <td>12057</td>\n",
       "    </tr>\n",
       "    <tr>\n",
       "      <th>2020-03-25</th>\n",
       "      <td>329</td>\n",
       "      <td>1930647</td>\n",
       "      <td>185</td>\n",
       "      <td>12077</td>\n",
       "    </tr>\n",
       "    <tr>\n",
       "      <th>2020-03-26</th>\n",
       "      <td>704</td>\n",
       "      <td>2022451</td>\n",
       "      <td>2052</td>\n",
       "      <td>18527</td>\n",
       "    </tr>\n",
       "    <tr>\n",
       "      <th>2020-03-27</th>\n",
       "      <td>392</td>\n",
       "      <td>2191033</td>\n",
       "      <td>774</td>\n",
       "      <td>164892</td>\n",
       "    </tr>\n",
       "    <tr>\n",
       "      <th>2020-03-28</th>\n",
       "      <td>342</td>\n",
       "      <td>1760149</td>\n",
       "      <td>0</td>\n",
       "      <td>148701</td>\n",
       "    </tr>\n",
       "  </tbody>\n",
       "</table>\n",
       "</div>"
      ],
      "text/plain": [
       "               count(1)                             \n",
       "client_type android-web  ios-web kaios-app kaios-web\n",
       "date                                                \n",
       "2020-03-21          187  1923306       655     10025\n",
       "2020-03-22          373  2137102       438     12566\n",
       "2020-03-23          170  1799231      1166     11917\n",
       "2020-03-24          132  1791527      1294     12057\n",
       "2020-03-25          329  1930647       185     12077\n",
       "2020-03-26          704  2022451      2052     18527\n",
       "2020-03-27          392  2191033       774    164892\n",
       "2020-03-28          342  1760149         0    148701"
      ]
     },
     "execution_count": 320,
     "metadata": {},
     "output_type": "execute_result"
    }
   ],
   "source": [
    "daily_events = (\n",
    "  daily_events_r\n",
    "  .assign(date=lambda df: pd.to_datetime(df[\"date\"]))\n",
    "  .pivot(index=\"date\", columns=\"client_type\")\n",
    "  .fillna(0)\n",
    "  .applymap(int)\n",
    ")\n",
    "\n",
    "daily_events.tail(8)"
   ]
  },
  {
   "cell_type": "code",
   "execution_count": 321,
   "metadata": {},
   "outputs": [
    {
     "name": "stdout",
     "output_type": "stream",
     "text": [
      "| date | android-web | ios-web | kaios-app | kaios-web\n",
      "| ----- | ----- | ----- | ----- | ----- \n",
      "| 2020-03-21 | 187 | 1923306 | 655 | 10025\n",
      "| 2020-03-22 | 373 | 2137102 | 438 | 12566\n",
      "| 2020-03-23 | 170 | 1799231 | 1166 | 11917\n",
      "| 2020-03-24 | 132 | 1791527 | 1294 | 12057\n",
      "| 2020-03-25 | 329 | 1930647 | 185 | 12077\n",
      "| 2020-03-26 | 704 | 2022451 | 2052 | 18527\n",
      "| 2020-03-27 | 392 | 2191033 | 774 | 164892\n",
      "| 2020-03-28 | 342 | 1760149 | 0 | 148701\n",
      "\n"
     ]
    }
   ],
   "source": [
    "_320.droplevel(0, axis=1).reset_index().pipe(df_to_remarkup)"
   ]
  },
  {
   "cell_type": "code",
   "execution_count": 210,
   "metadata": {},
   "outputs": [],
   "source": [
    "daily_errors_r = wmf.spark.run(\"\"\"\n",
    "SELECT\n",
    "    CONCAT_WS(\"-\", year, LPAD(month, 2, \"0\"), LPAD(day, 2, \"0\")) AS date,\n",
    "    COUNT(1) as errors\n",
    "FROM event.eventerror\n",
    "WHERE\n",
    "  event.schema = \"InukaPageView\" AND\n",
    "  year = 2020 AND\n",
    "  month >= 2\n",
    "GROUP BY\n",
    "  year,\n",
    "  month,\n",
    "  day\n",
    "\"\"\")"
   ]
  },
  {
   "cell_type": "code",
   "execution_count": 212,
   "metadata": {},
   "outputs": [
    {
     "data": {
      "text/html": [
       "<div>\n",
       "<style scoped>\n",
       "    .dataframe tbody tr th:only-of-type {\n",
       "        vertical-align: middle;\n",
       "    }\n",
       "\n",
       "    .dataframe tbody tr th {\n",
       "        vertical-align: top;\n",
       "    }\n",
       "\n",
       "    .dataframe thead th {\n",
       "        text-align: right;\n",
       "    }\n",
       "</style>\n",
       "<table border=\"1\" class=\"dataframe\">\n",
       "  <thead>\n",
       "    <tr style=\"text-align: right;\">\n",
       "      <th></th>\n",
       "      <th>errors</th>\n",
       "    </tr>\n",
       "    <tr>\n",
       "      <th>date</th>\n",
       "      <th></th>\n",
       "    </tr>\n",
       "  </thead>\n",
       "  <tbody>\n",
       "    <tr>\n",
       "      <th>2020-03-13</th>\n",
       "      <td>642</td>\n",
       "    </tr>\n",
       "    <tr>\n",
       "      <th>2020-03-16</th>\n",
       "      <td>959</td>\n",
       "    </tr>\n",
       "    <tr>\n",
       "      <th>2020-03-17</th>\n",
       "      <td>140</td>\n",
       "    </tr>\n",
       "    <tr>\n",
       "      <th>2020-03-18</th>\n",
       "      <td>1033</td>\n",
       "    </tr>\n",
       "    <tr>\n",
       "      <th>2020-03-19</th>\n",
       "      <td>7</td>\n",
       "    </tr>\n",
       "  </tbody>\n",
       "</table>\n",
       "</div>"
      ],
      "text/plain": [
       "            errors\n",
       "date              \n",
       "2020-03-13     642\n",
       "2020-03-16     959\n",
       "2020-03-17     140\n",
       "2020-03-18    1033\n",
       "2020-03-19       7"
      ]
     },
     "execution_count": 212,
     "metadata": {},
     "output_type": "execute_result"
    }
   ],
   "source": [
    "daily_errors = (\n",
    "  daily_errors_r\n",
    "  .assign(date=lambda df: pd.to_datetime(df[\"date\"]))\n",
    "  .sort_values(\"date\")\n",
    "  .set_index(\"date\")\n",
    ")\n",
    "\n",
    "daily_errors.tail()"
   ]
  },
  {
   "cell_type": "markdown",
   "metadata": {},
   "source": [
    "# KaiOS web events"
   ]
  },
  {
   "cell_type": "code",
   "execution_count": 305,
   "metadata": {},
   "outputs": [],
   "source": [
    "kaios_sample_r = wmf.spark.run(\"\"\"\n",
    "SELECT\n",
    "  wiki,\n",
    "  dt,\n",
    "  webhost,\n",
    "  geocoded_data,\n",
    "  ev.*,\n",
    "  ua.*\n",
    "FROM event.inukapageview ipv\n",
    "LATERAL VIEW INLINE(ARRAY(event)) ev\n",
    "LATERAL VIEW INLINE(ARRAY(useragent)) ua\n",
    "WHERE\n",
    "  event.client_type = \"kaios-web\" AND\n",
    "  year = 2020 AND \n",
    "  month = 3 AND\n",
    "  day = 26\n",
    "\"\"\")"
   ]
  },
  {
   "cell_type": "code",
   "execution_count": 308,
   "metadata": {},
   "outputs": [
    {
     "data": {
      "text/plain": [
       "Firefox OS    1302\n",
       "Name: os_family, dtype: int64"
      ]
     },
     "execution_count": 308,
     "metadata": {},
     "output_type": "execute_result"
    }
   ],
   "source": [
    "kaios_sample_r[\"os_family\"].value_counts()"
   ]
  },
  {
   "cell_type": "code",
   "execution_count": 114,
   "metadata": {},
   "outputs": [],
   "source": [
    "android_sample_r = wmf.spark.run(\"\"\"\n",
    "SELECT\n",
    "  wiki,\n",
    "  dt,\n",
    "  webhost,\n",
    "  geocoded_data,\n",
    "  ev.*,\n",
    "  ua.*\n",
    "FROM event.inukapageview ipv\n",
    "LATERAL VIEW INLINE(ARRAY(event)) ev\n",
    "LATERAL VIEW INLINE(ARRAY(useragent)) ua\n",
    "WHERE\n",
    "  event.client_type = \"android-web\" AND\n",
    "  year = 2020 AND \n",
    "  month = 3 AND\n",
    "  day >= 14\n",
    "\"\"\")"
   ]
  },
  {
   "cell_type": "code",
   "execution_count": null,
   "metadata": {},
   "outputs": [],
   "source": [
    "android_sample_r"
   ]
  },
  {
   "cell_type": "code",
   "execution_count": 118,
   "metadata": {},
   "outputs": [
    {
     "name": "stdout",
     "output_type": "stream",
     "text": [
      "<class 'pandas.core.frame.DataFrame'>\n",
      "RangeIndex: 851 entries, 0 to 850\n",
      "Data columns (total 28 columns):\n",
      "wiki                    851 non-null object\n",
      "dt                      851 non-null object\n",
      "webhost                 851 non-null object\n",
      "geocoded_data           851 non-null object\n",
      "user_id                 851 non-null object\n",
      "session_id              851 non-null object\n",
      "pageview_token          851 non-null object\n",
      "client_type             851 non-null object\n",
      "referring_domain        0 non-null object\n",
      "load_dt                 851 non-null object\n",
      "page_open_time          851 non-null int64\n",
      "page_visible_time       851 non-null int64\n",
      "section_count           851 non-null int64\n",
      "opened_section_count    851 non-null int64\n",
      "page_namespace          851 non-null int64\n",
      "is_main_page            851 non-null bool\n",
      "is_search_page          851 non-null bool\n",
      "app_version             0 non-null object\n",
      "browser_family          851 non-null object\n",
      "browser_major           851 non-null object\n",
      "browser_minor           851 non-null object\n",
      "device_family           851 non-null object\n",
      "is_bot                  851 non-null bool\n",
      "is_mediawiki            851 non-null bool\n",
      "os_family               851 non-null object\n",
      "os_major                785 non-null object\n",
      "os_minor                661 non-null object\n",
      "wmf_app_version         851 non-null object\n",
      "dtypes: bool(4), int64(5), object(19)\n",
      "memory usage: 163.0+ KB\n"
     ]
    }
   ],
   "source": [
    "android_sample_r.info()"
   ]
  },
  {
   "cell_type": "code",
   "execution_count": 119,
   "metadata": {},
   "outputs": [
    {
     "data": {
      "text/plain": [
       "UC Browser               627\n",
       "Chrome Mobile WebView     79\n",
       "Firefox Mobile            66\n",
       "MiuiBrowser               61\n",
       "Chrome                    18\n",
       "Name: browser_family, dtype: int64"
      ]
     },
     "execution_count": 119,
     "metadata": {},
     "output_type": "execute_result"
    }
   ],
   "source": [
    "android_sample_r[\"browser_family\"].value_counts()"
   ]
  },
  {
   "cell_type": "code",
   "execution_count": 117,
   "metadata": {},
   "outputs": [
    {
     "data": {
      "text/plain": [
       "vivo 1718                  323\n",
       "XT1078                     148\n",
       "Generic Smartphone         144\n",
       "XiaoMi Redmi 4              99\n",
       "XiaoMi Redmi Note 7         29\n",
       "XiaoMi Mi A1                17\n",
       "Huawei JSN-L42              12\n",
       "wv                           8\n",
       "VCE-AL00                     8\n",
       "Asus X01BDA                  6\n",
       "vivo 1951                    6\n",
       "Other                        6\n",
       "XiaoMi Redmi Note 5          6\n",
       "ALP-AL00                     5\n",
       "XiaoMi Redmi Note 8 Pro      5\n",
       "A6020a40                     4\n",
       "XiaoMi Redmi Note 4          4\n",
       "XiaoMi Redmi Y2              3\n",
       "XiaoMi Redmi 4A              3\n",
       "YU5014                       3\n",
       "XiaoMi Redmi Note 7 Pro      2\n",
       "vivo 1901                    2\n",
       "XiaoMi Redmi K20 Pro         2\n",
       "Lenovo K10a40                2\n",
       "XiaoMi Redmi Note 7S         2\n",
       "XiaoMi MI 9                  2\n",
       "Name: device_family, dtype: int64"
      ]
     },
     "execution_count": 117,
     "metadata": {},
     "output_type": "execute_result"
    }
   ],
   "source": [
    "android_sample_r[\"device_family\"].value_counts()"
   ]
  },
  {
   "cell_type": "code",
   "execution_count": 141,
   "metadata": {},
   "outputs": [],
   "source": [
    "kaios_sample_r = wmf.spark.run(\"\"\"\n",
    "SELECT\n",
    "  wiki,\n",
    "  dt,\n",
    "  webhost,\n",
    "  geocoded_data,\n",
    "  ev.*,\n",
    "  ua.*\n",
    "FROM event.inukapageview ipv\n",
    "LATERAL VIEW INLINE(ARRAY(event)) ev\n",
    "LATERAL VIEW INLINE(ARRAY(useragent)) ua\n",
    "WHERE\n",
    "  event.client_type = \"kaios-web\" AND\n",
    "  year = 2020 AND \n",
    "  month = 3 AND\n",
    "  day >= 14\n",
    "\"\"\")"
   ]
  },
  {
   "cell_type": "code",
   "execution_count": null,
   "metadata": {},
   "outputs": [],
   "source": [
    "kaios_sample_r[\"geocoded_data\"].apply(lambda x: x[\"country\"]).value_counts()"
   ]
  },
  {
   "cell_type": "code",
   "execution_count": null,
   "metadata": {},
   "outputs": [],
   "source": [
    "android_sample_r[\"geocoded_data\"].apply(lambda x: x[\"country\"]).value_counts()"
   ]
  },
  {
   "cell_type": "markdown",
   "metadata": {},
   "source": [
    "# App pageviews"
   ]
  },
  {
   "cell_type": "markdown",
   "metadata": {},
   "source": [
    "# KaiOS app events"
   ]
  }
 ],
 "metadata": {
  "kernelspec": {
   "display_name": "Python 3",
   "language": "python",
   "name": "python3"
  },
  "language_info": {
   "codemirror_mode": {
    "name": "ipython",
    "version": 3
   },
   "file_extension": ".py",
   "mimetype": "text/x-python",
   "name": "python",
   "nbconvert_exporter": "python",
   "pygments_lexer": "ipython3",
   "version": "3.7.3"
  }
 },
 "nbformat": 4,
 "nbformat_minor": 4
}
