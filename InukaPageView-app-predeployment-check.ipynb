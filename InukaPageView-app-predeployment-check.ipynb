{
 "cells": [
  {
   "cell_type": "code",
   "execution_count": 235,
   "metadata": {},
   "outputs": [],
   "source": [
    "from IPython.display import display\n",
    "import numpy as np\n",
    "import pandas as pd\n",
    "import wmfdata as wmf\n",
    "from wmfdata.utils import pd_display_all, df_to_remarkup, pct_str"
   ]
  },
  {
   "cell_type": "code",
   "execution_count": 229,
   "metadata": {},
   "outputs": [],
   "source": [
    "wmf.charting.set_mpl_style()\n",
    "pd.core.api.set_eng_float_format(use_eng_prefix=True)"
   ]
  },
  {
   "cell_type": "markdown",
   "metadata": {},
   "source": [
    "# Data collection and cleaning"
   ]
  },
  {
   "cell_type": "code",
   "execution_count": 240,
   "metadata": {},
   "outputs": [],
   "source": [
    "app_events = wmf.spark.run(\"\"\"\n",
    "SELECT\n",
    "  ip,\n",
    "  wiki,\n",
    "  dt,\n",
    "  webhost,\n",
    "  geocoded_data,\n",
    "  ev.*,\n",
    "  ua.*\n",
    "FROM event.inukapageview ipv\n",
    "LATERAL VIEW INLINE(ARRAY(event)) ev\n",
    "LATERAL VIEW INLINE(ARRAY(useragent)) ua\n",
    "WHERE\n",
    "  event.client_type = \"kaios-app\" AND\n",
    "  year = 2020 AND \n",
    "  month = 3 AND\n",
    "  day >= 23\n",
    "\"\"\").assign(\n",
    "  dt=lambda df: pd.to_datetime(df[\"dt\"]),\n",
    "  load_dt=lambda df: pd.to_datetime(df[\"load_dt\"]),\n",
    "  page_open_time=lambda df: pd.to_timedelta(df[\"page_open_time\"], unit=\"ms\"),\n",
    "  page_visible_time=lambda df: pd.to_timedelta(df[\"page_visible_time\"], unit=\"ms\")\n",
    ")"
   ]
  },
  {
   "cell_type": "code",
   "execution_count": 241,
   "metadata": {},
   "outputs": [],
   "source": [
    "locations = pd.DataFrame(app_events[\"geocoded_data\"].to_list())\n",
    "app_events = pd.concat([app_events, locations], axis=1).drop(\"geocoded_data\", axis=1)"
   ]
  },
  {
   "cell_type": "markdown",
   "metadata": {},
   "source": [
    "There are a lot of events geolocation to Ashburn, Virginia that are almost certainly coming from the Inuka app's continuous integration service. Let's filter those out."
   ]
  },
  {
   "cell_type": "code",
   "execution_count": 296,
   "metadata": {},
   "outputs": [],
   "source": [
    "ci_events = app_events.query(\"city == 'Ashburn'\").index\n",
    "app_events = app_events.drop(ci_events)"
   ]
  },
  {
   "cell_type": "code",
   "execution_count": null,
   "metadata": {},
   "outputs": [],
   "source": [
    "app_events.sample(5).pipe(pd_display_all)\n",
    "display(app_events.info())\n",
    "app_events.describe(include=\"all\").pipe(pd_display_all)"
   ]
  },
  {
   "cell_type": "code",
   "execution_count": 299,
   "metadata": {},
   "outputs": [],
   "source": [
    "def last_event(df):\n",
    "  max_open_time = df[\"page_open_time\"].max()\n",
    "  return df.query(\"page_open_time == @max_open_time\").iloc[0]\n",
    "\n",
    "app_pvs = app_events.groupby(\"pageview_token\").apply(last_event)"
   ]
  },
  {
   "cell_type": "code",
   "execution_count": null,
   "metadata": {},
   "outputs": [],
   "source": [
    "app_pvs.sample(5).pipe(pd_display_all)\n",
    "display(app_pvs.info())\n",
    "app_pvs.describe(include=\"all\").pipe(pd_display_all)"
   ]
  },
  {
   "cell_type": "markdown",
   "metadata": {},
   "source": [
    "# Identifiers and uniqueness"
   ]
  },
  {
   "cell_type": "markdown",
   "metadata": {},
   "source": [
    "If we assume that each unique pair of city and OS family is a unique device (relatively safe, since we're talking about a small group of developers), some devices have a LOT of different user IDs. However, these are all desktop devices, and a chat with the developers suggests that their development environments reinstall the app constantly. \n",
    "\n",
    "The KaiOS (Firefox OS) devices tend to have relatively few user IDs, suggesting that this will work properly for our users."
   ]
  },
  {
   "cell_type": "code",
   "execution_count": 304,
   "metadata": {},
   "outputs": [
    {
     "data": {
      "text/html": [
       "<div>\n",
       "<style scoped>\n",
       "    .dataframe tbody tr th:only-of-type {\n",
       "        vertical-align: middle;\n",
       "    }\n",
       "\n",
       "    .dataframe tbody tr th {\n",
       "        vertical-align: top;\n",
       "    }\n",
       "\n",
       "    .dataframe thead th {\n",
       "        text-align: right;\n",
       "    }\n",
       "</style>\n",
       "<table border=\"1\" class=\"dataframe\">\n",
       "  <thead>\n",
       "    <tr style=\"text-align: right;\">\n",
       "      <th></th>\n",
       "      <th>os_family</th>\n",
       "      <th>device_events</th>\n",
       "      <th>unique_user_IDs</th>\n",
       "    </tr>\n",
       "  </thead>\n",
       "  <tbody>\n",
       "    <tr>\n",
       "      <th>0</th>\n",
       "      <td>Firefox OS</td>\n",
       "      <td>53</td>\n",
       "      <td>5</td>\n",
       "    </tr>\n",
       "    <tr>\n",
       "      <th>1</th>\n",
       "      <td>Mac OS X</td>\n",
       "      <td>9</td>\n",
       "      <td>2</td>\n",
       "    </tr>\n",
       "    <tr>\n",
       "      <th>2</th>\n",
       "      <td>Windows</td>\n",
       "      <td>1</td>\n",
       "      <td>1</td>\n",
       "    </tr>\n",
       "    <tr>\n",
       "      <th>3</th>\n",
       "      <td>Firefox OS</td>\n",
       "      <td>13</td>\n",
       "      <td>1</td>\n",
       "    </tr>\n",
       "    <tr>\n",
       "      <th>4</th>\n",
       "      <td>Windows</td>\n",
       "      <td>182</td>\n",
       "      <td>1</td>\n",
       "    </tr>\n",
       "    <tr>\n",
       "      <th>5</th>\n",
       "      <td>Firefox OS</td>\n",
       "      <td>94</td>\n",
       "      <td>2</td>\n",
       "    </tr>\n",
       "    <tr>\n",
       "      <th>6</th>\n",
       "      <td>Mac OS X</td>\n",
       "      <td>2</td>\n",
       "      <td>1</td>\n",
       "    </tr>\n",
       "    <tr>\n",
       "      <th>7</th>\n",
       "      <td>Android</td>\n",
       "      <td>7</td>\n",
       "      <td>2</td>\n",
       "    </tr>\n",
       "    <tr>\n",
       "      <th>8</th>\n",
       "      <td>Firefox OS</td>\n",
       "      <td>209</td>\n",
       "      <td>6</td>\n",
       "    </tr>\n",
       "    <tr>\n",
       "      <th>9</th>\n",
       "      <td>Mac OS X</td>\n",
       "      <td>56</td>\n",
       "      <td>4</td>\n",
       "    </tr>\n",
       "    <tr>\n",
       "      <th>10</th>\n",
       "      <td>Firefox OS</td>\n",
       "      <td>32</td>\n",
       "      <td>3</td>\n",
       "    </tr>\n",
       "    <tr>\n",
       "      <th>11</th>\n",
       "      <td>Mac OS X</td>\n",
       "      <td>567</td>\n",
       "      <td>235</td>\n",
       "    </tr>\n",
       "    <tr>\n",
       "      <th>12</th>\n",
       "      <td>Firefox OS</td>\n",
       "      <td>66</td>\n",
       "      <td>1</td>\n",
       "    </tr>\n",
       "    <tr>\n",
       "      <th>13</th>\n",
       "      <td>Mac OS X</td>\n",
       "      <td>676</td>\n",
       "      <td>197</td>\n",
       "    </tr>\n",
       "  </tbody>\n",
       "</table>\n",
       "</div>"
      ],
      "text/plain": [
       "     os_family  device_events  unique_user_IDs\n",
       "0   Firefox OS             53                5\n",
       "1     Mac OS X              9                2\n",
       "2      Windows              1                1\n",
       "3   Firefox OS             13                1\n",
       "4      Windows            182                1\n",
       "5   Firefox OS             94                2\n",
       "6     Mac OS X              2                1\n",
       "7      Android              7                2\n",
       "8   Firefox OS            209                6\n",
       "9     Mac OS X             56                4\n",
       "10  Firefox OS             32                3\n",
       "11    Mac OS X            567              235\n",
       "12  Firefox OS             66                1\n",
       "13    Mac OS X            676              197"
      ]
     },
     "execution_count": 304,
     "metadata": {},
     "output_type": "execute_result"
    }
   ],
   "source": [
    "device_id_cols = [\"country\", \"subdivision\", \"city\", \"os_family\"]\n",
    "\n",
    "def device_stats(df):\n",
    "  events = len(df)\n",
    "  user_ids = df[\"user_id\"].nunique()\n",
    "\n",
    "  return pd.Series({\n",
    "    \"device_events\": events,\n",
    "    \"unique_user_IDs\": user_ids\n",
    "  })\n",
    "\n",
    "app_events.groupby(device_id_cols).apply(device_stats).reset_index(\"os_family\").reset_index(drop=True)"
   ]
  },
  {
   "cell_type": "code",
   "execution_count": 305,
   "metadata": {},
   "outputs": [
    {
     "data": {
      "text/html": [
       "<div>\n",
       "<style scoped>\n",
       "    .dataframe tbody tr th:only-of-type {\n",
       "        vertical-align: middle;\n",
       "    }\n",
       "\n",
       "    .dataframe tbody tr th {\n",
       "        vertical-align: top;\n",
       "    }\n",
       "\n",
       "    .dataframe thead th {\n",
       "        text-align: right;\n",
       "    }\n",
       "</style>\n",
       "<table border=\"1\" class=\"dataframe\">\n",
       "  <thead>\n",
       "    <tr style=\"text-align: right;\">\n",
       "      <th></th>\n",
       "      <th>frequency</th>\n",
       "    </tr>\n",
       "    <tr>\n",
       "      <th>sessions per user</th>\n",
       "      <th></th>\n",
       "    </tr>\n",
       "  </thead>\n",
       "  <tbody>\n",
       "    <tr>\n",
       "      <th>1</th>\n",
       "      <td>186</td>\n",
       "    </tr>\n",
       "    <tr>\n",
       "      <th>2</th>\n",
       "      <td>265</td>\n",
       "    </tr>\n",
       "    <tr>\n",
       "      <th>3</th>\n",
       "      <td>3</td>\n",
       "    </tr>\n",
       "    <tr>\n",
       "      <th>4</th>\n",
       "      <td>1</td>\n",
       "    </tr>\n",
       "    <tr>\n",
       "      <th>5</th>\n",
       "      <td>1</td>\n",
       "    </tr>\n",
       "    <tr>\n",
       "      <th>10</th>\n",
       "      <td>1</td>\n",
       "    </tr>\n",
       "    <tr>\n",
       "      <th>13</th>\n",
       "      <td>1</td>\n",
       "    </tr>\n",
       "  </tbody>\n",
       "</table>\n",
       "</div>"
      ],
      "text/plain": [
       "                   frequency\n",
       "sessions per user           \n",
       "1                        186\n",
       "2                        265\n",
       "3                          3\n",
       "4                          1\n",
       "5                          1\n",
       "10                         1\n",
       "13                         1"
      ]
     },
     "execution_count": 305,
     "metadata": {},
     "output_type": "execute_result"
    }
   ],
   "source": [
    "(app_events\n",
    " .groupby(\"user_id\")\n",
    " [\"session_id\"]\n",
    " .nunique()\n",
    " .value_counts()\n",
    " .to_frame(name=\"frequency\")\n",
    " .sort_index()\n",
    " .rename_axis(\"sessions per user\")\n",
    ")"
   ]
  },
  {
   "cell_type": "markdown",
   "metadata": {},
   "source": [
    "There are a lot of sessions which have multiple user IDs, which should never happen."
   ]
  },
  {
   "cell_type": "code",
   "execution_count": 319,
   "metadata": {},
   "outputs": [
    {
     "data": {
      "text/html": [
       "<div>\n",
       "<style scoped>\n",
       "    .dataframe tbody tr th:only-of-type {\n",
       "        vertical-align: middle;\n",
       "    }\n",
       "\n",
       "    .dataframe tbody tr th {\n",
       "        vertical-align: top;\n",
       "    }\n",
       "\n",
       "    .dataframe thead th {\n",
       "        text-align: right;\n",
       "    }\n",
       "</style>\n",
       "<table border=\"1\" class=\"dataframe\">\n",
       "  <thead>\n",
       "    <tr style=\"text-align: right;\">\n",
       "      <th></th>\n",
       "      <th>frequency</th>\n",
       "    </tr>\n",
       "    <tr>\n",
       "      <th>user IDs per session</th>\n",
       "      <th></th>\n",
       "    </tr>\n",
       "  </thead>\n",
       "  <tbody>\n",
       "    <tr>\n",
       "      <th>1</th>\n",
       "      <td>215</td>\n",
       "    </tr>\n",
       "    <tr>\n",
       "      <th>2</th>\n",
       "      <td>271</td>\n",
       "    </tr>\n",
       "  </tbody>\n",
       "</table>\n",
       "</div>"
      ],
      "text/plain": [
       "                      frequency\n",
       "user IDs per session           \n",
       "1                           215\n",
       "2                           271"
      ]
     },
     "execution_count": 319,
     "metadata": {},
     "output_type": "execute_result"
    }
   ],
   "source": [
    "(app_events\n",
    " .groupby(\"session_id\")\n",
    " [\"user_id\"]\n",
    " .nunique()\n",
    " .value_counts()\n",
    " .to_frame(name=\"frequency\")\n",
    " .sort_index()\n",
    " .rename_axis(\"user IDs per session\")\n",
    ")"
   ]
  },
  {
   "cell_type": "markdown",
   "metadata": {},
   "source": [
    "However, all of these sessions come from desktop devices, so they're likely just a quirk of the desktop development environments."
   ]
  },
  {
   "cell_type": "code",
   "execution_count": 320,
   "metadata": {},
   "outputs": [
    {
     "data": {
      "text/plain": [
       "os_family\n",
       "Mac OS X    859\n",
       "dtype: int64"
      ]
     },
     "execution_count": 320,
     "metadata": {},
     "output_type": "execute_result"
    }
   ],
   "source": [
    "multiuser_sessions = (app_events\n",
    "  .groupby(\"session_id\")\n",
    "  .filter(lambda g: g[\"user_id\"].nunique() > 1 )\n",
    ")\n",
    "\n",
    "multiuser_sessions.groupby(\"os_family\").apply(len)"
   ]
  },
  {
   "cell_type": "code",
   "execution_count": 307,
   "metadata": {},
   "outputs": [
    {
     "data": {
      "text/html": [
       "<div>\n",
       "<style scoped>\n",
       "    .dataframe tbody tr th:only-of-type {\n",
       "        vertical-align: middle;\n",
       "    }\n",
       "\n",
       "    .dataframe tbody tr th {\n",
       "        vertical-align: top;\n",
       "    }\n",
       "\n",
       "    .dataframe thead th {\n",
       "        text-align: right;\n",
       "    }\n",
       "</style>\n",
       "<table border=\"1\" class=\"dataframe\">\n",
       "  <thead>\n",
       "    <tr style=\"text-align: right;\">\n",
       "      <th></th>\n",
       "      <th>frequency</th>\n",
       "    </tr>\n",
       "    <tr>\n",
       "      <th>pageviews per session</th>\n",
       "      <th></th>\n",
       "    </tr>\n",
       "  </thead>\n",
       "  <tbody>\n",
       "    <tr>\n",
       "      <th>1</th>\n",
       "      <td>132</td>\n",
       "    </tr>\n",
       "    <tr>\n",
       "      <th>2</th>\n",
       "      <td>162</td>\n",
       "    </tr>\n",
       "    <tr>\n",
       "      <th>3</th>\n",
       "      <td>43</td>\n",
       "    </tr>\n",
       "    <tr>\n",
       "      <th>4</th>\n",
       "      <td>73</td>\n",
       "    </tr>\n",
       "    <tr>\n",
       "      <th>5</th>\n",
       "      <td>39</td>\n",
       "    </tr>\n",
       "    <tr>\n",
       "      <th>6</th>\n",
       "      <td>15</td>\n",
       "    </tr>\n",
       "    <tr>\n",
       "      <th>7</th>\n",
       "      <td>1</td>\n",
       "    </tr>\n",
       "    <tr>\n",
       "      <th>8</th>\n",
       "      <td>2</td>\n",
       "    </tr>\n",
       "    <tr>\n",
       "      <th>9</th>\n",
       "      <td>1</td>\n",
       "    </tr>\n",
       "    <tr>\n",
       "      <th>10</th>\n",
       "      <td>1</td>\n",
       "    </tr>\n",
       "    <tr>\n",
       "      <th>12</th>\n",
       "      <td>2</td>\n",
       "    </tr>\n",
       "    <tr>\n",
       "      <th>13</th>\n",
       "      <td>3</td>\n",
       "    </tr>\n",
       "    <tr>\n",
       "      <th>14</th>\n",
       "      <td>2</td>\n",
       "    </tr>\n",
       "    <tr>\n",
       "      <th>17</th>\n",
       "      <td>1</td>\n",
       "    </tr>\n",
       "    <tr>\n",
       "      <th>18</th>\n",
       "      <td>1</td>\n",
       "    </tr>\n",
       "    <tr>\n",
       "      <th>20</th>\n",
       "      <td>1</td>\n",
       "    </tr>\n",
       "    <tr>\n",
       "      <th>28</th>\n",
       "      <td>1</td>\n",
       "    </tr>\n",
       "    <tr>\n",
       "      <th>31</th>\n",
       "      <td>1</td>\n",
       "    </tr>\n",
       "    <tr>\n",
       "      <th>34</th>\n",
       "      <td>1</td>\n",
       "    </tr>\n",
       "    <tr>\n",
       "      <th>42</th>\n",
       "      <td>1</td>\n",
       "    </tr>\n",
       "    <tr>\n",
       "      <th>44</th>\n",
       "      <td>2</td>\n",
       "    </tr>\n",
       "    <tr>\n",
       "      <th>87</th>\n",
       "      <td>1</td>\n",
       "    </tr>\n",
       "  </tbody>\n",
       "</table>\n",
       "</div>"
      ],
      "text/plain": [
       "                       frequency\n",
       "pageviews per session           \n",
       "1                            132\n",
       "2                            162\n",
       "3                             43\n",
       "4                             73\n",
       "5                             39\n",
       "6                             15\n",
       "7                              1\n",
       "8                              2\n",
       "9                              1\n",
       "10                             1\n",
       "12                             2\n",
       "13                             3\n",
       "14                             2\n",
       "17                             1\n",
       "18                             1\n",
       "20                             1\n",
       "28                             1\n",
       "31                             1\n",
       "34                             1\n",
       "42                             1\n",
       "44                             2\n",
       "87                             1"
      ]
     },
     "execution_count": 307,
     "metadata": {},
     "output_type": "execute_result"
    }
   ],
   "source": [
    "(app_events\n",
    " .groupby(\"session_id\")\n",
    " [\"pageview_token\"]\n",
    " .nunique()\n",
    " .value_counts()\n",
    " .to_frame(name=\"frequency\")\n",
    " .sort_index()\n",
    " .rename_axis(\"pageviews per session\")\n",
    ")"
   ]
  },
  {
   "cell_type": "markdown",
   "metadata": {},
   "source": [
    "A large number of pageviews have more than one session ID."
   ]
  },
  {
   "cell_type": "code",
   "execution_count": 308,
   "metadata": {},
   "outputs": [
    {
     "data": {
      "text/html": [
       "<div>\n",
       "<style scoped>\n",
       "    .dataframe tbody tr th:only-of-type {\n",
       "        vertical-align: middle;\n",
       "    }\n",
       "\n",
       "    .dataframe tbody tr th {\n",
       "        vertical-align: top;\n",
       "    }\n",
       "\n",
       "    .dataframe thead th {\n",
       "        text-align: right;\n",
       "    }\n",
       "</style>\n",
       "<table border=\"1\" class=\"dataframe\">\n",
       "  <thead>\n",
       "    <tr style=\"text-align: right;\">\n",
       "      <th></th>\n",
       "      <th>frequency</th>\n",
       "    </tr>\n",
       "    <tr>\n",
       "      <th>session IDs per pageview</th>\n",
       "      <th></th>\n",
       "    </tr>\n",
       "  </thead>\n",
       "  <tbody>\n",
       "    <tr>\n",
       "      <th>1</th>\n",
       "      <td>860</td>\n",
       "    </tr>\n",
       "    <tr>\n",
       "      <th>2</th>\n",
       "      <td>400</td>\n",
       "    </tr>\n",
       "  </tbody>\n",
       "</table>\n",
       "</div>"
      ],
      "text/plain": [
       "                          frequency\n",
       "session IDs per pageview           \n",
       "1                               860\n",
       "2                               400"
      ]
     },
     "execution_count": 308,
     "metadata": {},
     "output_type": "execute_result"
    }
   ],
   "source": [
    "(app_events\n",
    " .groupby(\"pageview_token\")\n",
    " [\"session_id\"]\n",
    " .nunique()\n",
    " .value_counts()\n",
    " .to_frame(name=\"frequency\")\n",
    " .sort_index()\n",
    " .rename_axis(\"session IDs per pageview\")\n",
    ")"
   ]
  },
  {
   "cell_type": "markdown",
   "metadata": {},
   "source": [
    "This can be correct if a user closes the app for more than an hour and then reopens it, viewing the same page. However, many of the events are less than an hour apart, meaning they should be part of the same session. Crucially, some of these events are coming from KaiOS devices, meaning our actual users might encounter this bug too.  "
   ]
  },
  {
   "cell_type": "code",
   "execution_count": 344,
   "metadata": {},
   "outputs": [
    {
     "data": {
      "text/plain": [
       "os_family   time_between_events\n",
       "Firefox OS  > 1 hour                44\n",
       "            ≤ 1 hour                 6\n",
       "Mac OS X    > 1 hour                12\n",
       "            ≤ 1 hour               331\n",
       "Windows     > 1 hour                 7\n",
       "dtype: int64"
      ]
     },
     "execution_count": 344,
     "metadata": {},
     "output_type": "execute_result"
    }
   ],
   "source": [
    "multisession_pvs = app_events.groupby(\"pageview_token\").filter(lambda g: g[\"session_id\"].nunique() > 1)\n",
    "\n",
    "def interevent_time(df):\n",
    "  interevent_time = df[\"dt\"].max() - df[\"load_dt\"].min()\n",
    "  if interevent_time <= pd.Timedelta(\"1 hour\"):\n",
    "    return \"≤ 1 hour\"\n",
    "  else:\n",
    "    return \"> 1 hour\"\n",
    "\n",
    "(multisession_pvs\n",
    "  .groupby([\"pageview_token\", \"os_family\"])\n",
    "  .apply(interevent_time)\n",
    "  .rename(\"time_between_events\")\n",
    "  .reset_index()\n",
    "  .groupby([\"os_family\", \"time_between_events\"])\n",
    "  .apply(len)\n",
    ")"
   ]
  },
  {
   "cell_type": "markdown",
   "metadata": {},
   "source": [
    "This is the count of events, excluding the first by a user, grouped by their operating system, the time since the previous event, and whether the session ID is different from the previous one. There are no cases where a session ID is improperly retained after an hour, but there are cases where the session ID improperly changed before an hour. Most come from Mac OS X but a couple come from KaiOS events\n",
    "\n",
    "Oddly, there are only two such KaiOS events, whereas there were six KaiOS pageviews that had multiple session IDs despite lasting less than an hour."
   ]
  },
  {
   "cell_type": "code",
   "execution_count": 447,
   "metadata": {},
   "outputs": [
    {
     "data": {
      "text/plain": [
       "os_family   time_since_previous  new_session_id\n",
       "Android     ≤ 1 hour             False               5\n",
       "Firefox OS  > 1 hour             True               16\n",
       "            ≤ 1 hour             False             432\n",
       "                                 True                2\n",
       "Mac OS X    > 1 hour             True               12\n",
       "            ≤ 1 hour             False             554\n",
       "                                 True              306\n",
       "Windows     > 1 hour             True               12\n",
       "            ≤ 1 hour             False             170\n",
       "dtype: int64"
      ]
     },
     "execution_count": 447,
     "metadata": {},
     "output_type": "execute_result"
    }
   ],
   "source": [
    "app_events = app_events.sort_values([\"user_id\", \"dt\"]).reset_index(drop=True)\n",
    "\n",
    "previous_dt = (\n",
    "  app_events\n",
    "  .groupby(\"user_id\")\n",
    "  [\"dt\"]\n",
    "  .apply(lambda x: x.shift(1))\n",
    ")\n",
    "\n",
    "previous_session_id = (\n",
    "  app_events\n",
    "  .groupby(\"user_id\")\n",
    "  [\"session_id\"]\n",
    "  .apply(lambda x: x.shift(1))\n",
    ")\n",
    "\n",
    "app_events[\"previous_dt\"] = previous_dt\n",
    "app_events[\"previous_session_id\"] = previous_session_id\n",
    "\n",
    "def time_since_previous(s):\n",
    "  t = s[\"dt\"] - s[\"previous_dt\"]\n",
    "  if t <= pd.Timedelta(\"1 hour\"):\n",
    "    return \"≤ 1 hour\"\n",
    "  else:\n",
    "    return \"> 1 hour\"\n",
    "  \n",
    "def stats(row):\n",
    "  return pd.Series({\n",
    "    \"os_family\": row[\"os_family\"],\n",
    "    \"new_session_id\": row[\"previous_session_id\"] != row[\"session_id\"],\n",
    "    \"time_since_previous\": time_since_previous(row)\n",
    "  })\n",
    "\n",
    "(app_events\n",
    "  .query(\"~previous_session_id.isna()\")\n",
    "  .apply(stats, axis=1)\n",
    "  .groupby([\"os_family\", \"time_since_previous\", \"new_session_id\"])\n",
    "  .apply(len)\n",
    ")"
   ]
  },
  {
   "cell_type": "markdown",
   "metadata": {},
   "source": [
    "The gap comes from another weird thing: some pageviews \"reappear\" after an intervening pageview."
   ]
  },
  {
   "cell_type": "code",
   "execution_count": 480,
   "metadata": {},
   "outputs": [
    {
     "data": {
      "text/plain": [
       "os_family   pageview_is_consecutive\n",
       "Android     False                        1\n",
       "            True                         4\n",
       "Firefox OS  False                      181\n",
       "            True                        91\n",
       "Mac OS X    False                      224\n",
       "            True                       636\n",
       "Windows     False                       51\n",
       "            True                        72\n",
       "Name: pageview_token, dtype: int64"
      ]
     },
     "execution_count": 480,
     "metadata": {},
     "output_type": "execute_result"
    }
   ],
   "source": [
    "def is_consecutive(df):\n",
    "  # This relies on the data frame being sorted by user ID and then dt\n",
    "  index_start = df.index[0]\n",
    "  index_end = df.index[-1] + 1\n",
    "  return (index_end - index_start) == len(df)\n",
    "\n",
    "app_events[\"pageview_is_consecutive\"] = app_events.groupby([\"pageview_token\"])[\"dt\"].transform(is_consecutive)\n",
    "\n",
    "(app_events\n",
    "  .groupby([\"os_family\", \"pageview_is_consecutive\"])\n",
    "  [\"pageview_token\"]\n",
    "  .nunique()\n",
    ")"
   ]
  },
  {
   "cell_type": "markdown",
   "metadata": {},
   "source": [
    "Among the 181 non-consecutive KaiOS pageviews, 82% were supposedly not hidden at any point!"
   ]
  },
  {
   "cell_type": "code",
   "execution_count": 513,
   "metadata": {},
   "outputs": [
    {
     "data": {
      "text/plain": [
       "'81.8%'"
      ]
     },
     "execution_count": 513,
     "metadata": {},
     "output_type": "execute_result"
    }
   ],
   "source": [
    "k = (app_events\n",
    "  .query(\"os_family == 'Firefox OS' & ~pageview_is_consecutive\")\n",
    "  .groupby(\"pageview_token\")\n",
    "  .apply(lambda df: 1 - df[\"page_visible_time\"].max() / df[\"page_open_time\"].max())\n",
    "  .rename(\"hidden_time\")\n",
    "  .pipe(lambda df: (df == 0).sum() / len(df))\n",
    ")\n",
    "\n",
    "pct_str(k)"
   ]
  },
  {
   "cell_type": "code",
   "execution_count": 285,
   "metadata": {},
   "outputs": [
    {
     "data": {
      "text/html": [
       "<div>\n",
       "<style scoped>\n",
       "    .dataframe tbody tr th:only-of-type {\n",
       "        vertical-align: middle;\n",
       "    }\n",
       "\n",
       "    .dataframe tbody tr th {\n",
       "        vertical-align: top;\n",
       "    }\n",
       "\n",
       "    .dataframe thead th {\n",
       "        text-align: right;\n",
       "    }\n",
       "</style>\n",
       "<table border=\"1\" class=\"dataframe\">\n",
       "  <thead>\n",
       "    <tr style=\"text-align: right;\">\n",
       "      <th></th>\n",
       "      <th>frequency</th>\n",
       "    </tr>\n",
       "    <tr>\n",
       "      <th>user IDs per pageview</th>\n",
       "      <th></th>\n",
       "    </tr>\n",
       "  </thead>\n",
       "  <tbody>\n",
       "    <tr>\n",
       "      <th>1</th>\n",
       "      <td>1977</td>\n",
       "    </tr>\n",
       "  </tbody>\n",
       "</table>\n",
       "</div>"
      ],
      "text/plain": [
       "                       frequency\n",
       "user IDs per pageview           \n",
       "1                           1977"
      ]
     },
     "execution_count": 285,
     "metadata": {},
     "output_type": "execute_result"
    }
   ],
   "source": [
    "(app_events\n",
    " .groupby(\"pageview_token\")\n",
    " [\"user_id\"]\n",
    " .nunique()\n",
    " .value_counts()\n",
    " .to_frame(name=\"frequency\")\n",
    " .sort_index()\n",
    " .rename_axis(\"user IDs per pageview\")\n",
    ")"
   ]
  },
  {
   "cell_type": "code",
   "execution_count": 278,
   "metadata": {},
   "outputs": [
    {
     "data": {
      "text/html": [
       "<div>\n",
       "<style scoped>\n",
       "    .dataframe tbody tr th:only-of-type {\n",
       "        vertical-align: middle;\n",
       "    }\n",
       "\n",
       "    .dataframe tbody tr th {\n",
       "        vertical-align: top;\n",
       "    }\n",
       "\n",
       "    .dataframe thead th {\n",
       "        text-align: right;\n",
       "    }\n",
       "</style>\n",
       "<table border=\"1\" class=\"dataframe\">\n",
       "  <thead>\n",
       "    <tr style=\"text-align: right;\">\n",
       "      <th></th>\n",
       "      <th>frequency</th>\n",
       "    </tr>\n",
       "    <tr>\n",
       "      <th>events per pageview</th>\n",
       "      <th></th>\n",
       "    </tr>\n",
       "  </thead>\n",
       "  <tbody>\n",
       "    <tr>\n",
       "      <th>1</th>\n",
       "      <td>911</td>\n",
       "    </tr>\n",
       "    <tr>\n",
       "      <th>2</th>\n",
       "      <td>1066</td>\n",
       "    </tr>\n",
       "  </tbody>\n",
       "</table>\n",
       "</div>"
      ],
      "text/plain": [
       "                     frequency\n",
       "events per pageview           \n",
       "1                          911\n",
       "2                         1066"
      ]
     },
     "execution_count": 278,
     "metadata": {},
     "output_type": "execute_result"
    }
   ],
   "source": [
    "(app_events\n",
    " .groupby(\"pageview_token\")\n",
    " .apply(len)\n",
    " .value_counts()\n",
    " .to_frame(name=\"frequency\")\n",
    " .sort_index()\n",
    " .rename_axis(\"events per pageview\")\n",
    ")"
   ]
  },
  {
   "cell_type": "markdown",
   "metadata": {},
   "source": [
    "The load time is constant for each pageview, as it should be."
   ]
  },
  {
   "cell_type": "code",
   "execution_count": 450,
   "metadata": {},
   "outputs": [
    {
     "data": {
      "text/plain": [
       "True"
      ]
     },
     "execution_count": 450,
     "metadata": {},
     "output_type": "execute_result"
    }
   ],
   "source": [
    "(app_events.groupby(\"pageview_token\")[\"load_dt\"].nunique() == 1).all()"
   ]
  },
  {
   "cell_type": "markdown",
   "metadata": {},
   "source": [
    "There are no cases of duplicate events for the same pageview (i.e. where the page open time is the same)."
   ]
  },
  {
   "cell_type": "code",
   "execution_count": 451,
   "metadata": {},
   "outputs": [
    {
     "data": {
      "text/plain": [
       "True"
      ]
     },
     "execution_count": 451,
     "metadata": {},
     "output_type": "execute_result"
    }
   ],
   "source": [
    "def duplicates(df):\n",
    "  return df[\"page_open_time\"].nunique() != len(df)\n",
    "\n",
    "(app_events.groupby(\"pageview_token\").apply(duplicates) == False).all()"
   ]
  },
  {
   "cell_type": "markdown",
   "metadata": {},
   "source": [
    "# User agent parsing"
   ]
  },
  {
   "cell_type": "markdown",
   "metadata": {},
   "source": [
    "For some reason, the KaiOS devices are getting classified as Firefox OS devices."
   ]
  },
  {
   "cell_type": "code",
   "execution_count": 122,
   "metadata": {},
   "outputs": [
    {
     "data": {
      "text/plain": [
       "os_family   device_family     \n",
       "Android     Nexus 5                  8\n",
       "Firefox OS  Generic Smartphone     613\n",
       "Linux       Other                 3354\n",
       "Mac OS X    Other                 3004\n",
       "Windows     Other                  401\n",
       "Name: events, dtype: int64"
      ]
     },
     "execution_count": 122,
     "metadata": {},
     "output_type": "execute_result"
    }
   ],
   "source": [
    "(app_events\n",
    "  .groupby([\"os_family\", \"device_family\"])\n",
    "  .apply(len)\n",
    "  .rename(\"events\")\n",
    ")"
   ]
  },
  {
   "cell_type": "markdown",
   "metadata": {},
   "source": [
    "This seems to be a general issue with EventLogging."
   ]
  },
  {
   "cell_type": "code",
   "execution_count": 215,
   "metadata": {},
   "outputs": [],
   "source": [
    "classification_rates = wmf.spark.run(\"\"\"\n",
    "SELECT\n",
    "  COUNT(1) as kaios_events,\n",
    "  SUM(CAST(useragent.os_family = \"KaiOS\" AS INT)) / COUNT(1) AS kaios_classified,\n",
    "  SUM(CAST(useragent.os_family = \"Firefox OS\" AS INT)) / COUNT(1) AS firefox_classified\n",
    "FROM event.inukapageview ipv\n",
    "WHERE\n",
    "  event.client_type IN (\"kaios-web\", \"kaios-app\") AND\n",
    "  year > 0\n",
    "\"\"\")"
   ]
  },
  {
   "cell_type": "code",
   "execution_count": 453,
   "metadata": {},
   "outputs": [
    {
     "data": {
      "text/html": [
       "<style  type=\"text/css\" >\n",
       "</style><table id=\"T_4e66056a_70cf_11ea_a436_d094661b49a6\" ><thead>    <tr>        <th class=\"blank level0\" ></th>        <th class=\"col_heading level0 col0\" >kaios_events</th>        <th class=\"col_heading level0 col1\" >kaios_classified</th>        <th class=\"col_heading level0 col2\" >firefox_classified</th>    </tr></thead><tbody>\n",
       "                <tr>\n",
       "                        <th id=\"T_4e66056a_70cf_11ea_a436_d094661b49a6level0_row0\" class=\"row_heading level0 row0\" >0</th>\n",
       "                        <td id=\"T_4e66056a_70cf_11ea_a436_d094661b49a6row0_col0\" class=\"data row0 col0\" >416398</td>\n",
       "                        <td id=\"T_4e66056a_70cf_11ea_a436_d094661b49a6row0_col1\" class=\"data row0 col1\" >0.0%</td>\n",
       "                        <td id=\"T_4e66056a_70cf_11ea_a436_d094661b49a6row0_col2\" class=\"data row0 col2\" >97.8%</td>\n",
       "            </tr>\n",
       "    </tbody></table>"
      ],
      "text/plain": [
       "<pandas.io.formats.style.Styler at 0x7fcfc28a5080>"
      ]
     },
     "execution_count": 453,
     "metadata": {},
     "output_type": "execute_result"
    }
   ],
   "source": [
    "classification_rates.style.format({\"kaios_classified\": pct_str, \"firefox_classified\": pct_str})"
   ]
  },
  {
   "cell_type": "markdown",
   "metadata": {},
   "source": [
    "# Times"
   ]
  },
  {
   "cell_type": "code",
   "execution_count": 124,
   "metadata": {},
   "outputs": [
    {
     "data": {
      "text/plain": [
       "count                      7380\n",
       "mean     0 days 00:53:33.856936\n",
       "std      0 days 08:59:01.010264\n",
       "min      0 days 00:00:00.003000\n",
       "25%      0 days 00:00:00.093000\n",
       "50%      0 days 00:00:00.534000\n",
       "75%      0 days 00:00:03.062000\n",
       "max      5 days 14:18:26.206000\n",
       "Name: page_open_time, dtype: object"
      ]
     },
     "execution_count": 124,
     "metadata": {},
     "output_type": "execute_result"
    }
   ],
   "source": [
    "app_events[\"page_open_time\"].describe()"
   ]
  },
  {
   "cell_type": "code",
   "execution_count": 191,
   "metadata": {},
   "outputs": [
    {
     "data": {
      "text/plain": [
       "count                      7477\n",
       "mean     0 days 00:48:07.725528\n",
       "std      0 days 08:33:49.800681\n",
       "min      0 days 00:00:00.003000\n",
       "25%      0 days 00:00:00.093000\n",
       "50%      0 days 00:00:00.531000\n",
       "75%      0 days 00:00:03.013000\n",
       "max      5 days 14:18:26.206000\n",
       "Name: page_visible_time, dtype: object"
      ]
     },
     "execution_count": 191,
     "metadata": {},
     "output_type": "execute_result"
    }
   ],
   "source": [
    "app_events[\"page_visible_time\"].describe()"
   ]
  },
  {
   "cell_type": "markdown",
   "metadata": {},
   "source": [
    "\"-1 days +23:59:59.369984\" is a [very weird way](https://github.com/pandas-dev/pandas/issues/31924) of writing \"-00:00:00.630016\", but still, the `page_open_time` is always very close to the span between the time when the page was loaded and the time when the event was received."
   ]
  },
  {
   "cell_type": "code",
   "execution_count": 190,
   "metadata": {},
   "outputs": [
    {
     "data": {
      "text/plain": [
       "count                        7477\n",
       "mean     -1 days +23:59:59.369984\n",
       "std        0 days 00:00:02.109687\n",
       "min      -1 days +23:59:49.107000\n",
       "25%      -1 days +23:59:59.243000\n",
       "50%      -1 days +23:59:59.514000\n",
       "75%      -1 days +23:59:59.793000\n",
       "max        0 days 00:01:20.255000\n",
       "dtype: object"
      ]
     },
     "execution_count": 190,
     "metadata": {},
     "output_type": "execute_result"
    }
   ],
   "source": [
    "(app_events[\"dt\"] - app_events[\"load_dt\"] - app_events[\"page_open_time\"]).describe()"
   ]
  },
  {
   "cell_type": "code",
   "execution_count": 193,
   "metadata": {},
   "outputs": [
    {
     "data": {
      "text/plain": [
       "count                      7477\n",
       "mean     0 days 00:04:50.292598\n",
       "std      0 days 02:28:37.777302\n",
       "min             0 days 00:00:00\n",
       "25%             0 days 00:00:00\n",
       "50%             0 days 00:00:00\n",
       "75%             0 days 00:00:00\n",
       "max      5 days 13:04:04.255000\n",
       "dtype: object"
      ]
     },
     "execution_count": 193,
     "metadata": {},
     "output_type": "execute_result"
    }
   ],
   "source": [
    "(app_events[\"page_open_time\"] - app_events[\"page_visible_time\"]).describe()"
   ]
  },
  {
   "cell_type": "markdown",
   "metadata": {},
   "source": [
    "The pageviews that were open for very long periods of time all come from KaiOS, and most of them are from pageviews that aren't interrupted by others."
   ]
  },
  {
   "cell_type": "code",
   "execution_count": 504,
   "metadata": {},
   "outputs": [
    {
     "data": {
      "text/plain": [
       "os_family   pageview_is_consecutive\n",
       "Firefox OS  False                       2\n",
       "            True                       32\n",
       "dtype: int64"
      ]
     },
     "execution_count": 504,
     "metadata": {},
     "output_type": "execute_result"
    }
   ],
   "source": [
    "app_events.query(\"page_open_time > '3 days'\").groupby([\"os_family\", \"pageview_is_consecutive\"]).apply(len)"
   ]
  },
  {
   "cell_type": "markdown",
   "metadata": {},
   "source": [
    "Most of them (30) have the exact same page visible time as page open time, asserting that they've never been hidden."
   ]
  },
  {
   "cell_type": "code",
   "execution_count": 519,
   "metadata": {},
   "outputs": [
    {
     "data": {
      "text/plain": [
       "30"
      ]
     },
     "execution_count": 519,
     "metadata": {},
     "output_type": "execute_result"
    }
   ],
   "source": [
    "(app_events\n",
    "  .query(\"page_open_time > '3 days'\")\n",
    "  .apply(lambda x: x[\"page_open_time\"] == x[\"page_visible_time\"], axis=1)\n",
    "  .sum()\n",
    ")"
   ]
  },
  {
   "cell_type": "markdown",
   "metadata": {},
   "source": [
    "# Other fields"
   ]
  },
  {
   "cell_type": "code",
   "execution_count": 260,
   "metadata": {},
   "outputs": [
    {
     "data": {
      "text/plain": [
       "wiki\n",
       "abwiki        1\n",
       "bnwiki        1\n",
       "dewiki        1\n",
       "enwiki     1823\n",
       "eswiki        1\n",
       "frpwiki       3\n",
       "frwiki       25\n",
       "hiwiki        7\n",
       "jawiki        2\n",
       "mrwiki       21\n",
       "pawiki        1\n",
       "plwiki       20\n",
       "ptwiki       71\n",
       "Name: pageviews per wiki, dtype: int64"
      ]
     },
     "execution_count": 260,
     "metadata": {},
     "output_type": "execute_result"
    }
   ],
   "source": [
    "(app_pvs\n",
    "  .groupby(\"wiki\")\n",
    "  .apply(len)\n",
    "  .rename(\"pageviews per wiki\")\n",
    ")"
   ]
  },
  {
   "cell_type": "markdown",
   "metadata": {},
   "source": [
    "All events in the same pageview have the same section count."
   ]
  },
  {
   "cell_type": "code",
   "execution_count": 265,
   "metadata": {},
   "outputs": [
    {
     "data": {
      "text/plain": [
       "True"
      ]
     },
     "execution_count": 265,
     "metadata": {},
     "output_type": "execute_result"
    }
   ],
   "source": [
    "(app_events.groupby(\"pageview_token\")[\"section_count\"].nunique() == 1).all()"
   ]
  },
  {
   "cell_type": "markdown",
   "metadata": {},
   "source": [
    "No events with more opened sections than total sections."
   ]
  },
  {
   "cell_type": "code",
   "execution_count": 262,
   "metadata": {},
   "outputs": [
    {
     "data": {
      "text/html": [
       "<div>\n",
       "<style scoped>\n",
       "    .dataframe tbody tr th:only-of-type {\n",
       "        vertical-align: middle;\n",
       "    }\n",
       "\n",
       "    .dataframe tbody tr th {\n",
       "        vertical-align: top;\n",
       "    }\n",
       "\n",
       "    .dataframe thead th {\n",
       "        text-align: right;\n",
       "    }\n",
       "</style>\n",
       "<table border=\"1\" class=\"dataframe\">\n",
       "  <thead>\n",
       "    <tr style=\"text-align: right;\">\n",
       "      <th></th>\n",
       "      <th>ip</th>\n",
       "      <th>wiki</th>\n",
       "      <th>dt</th>\n",
       "      <th>webhost</th>\n",
       "      <th>user_id</th>\n",
       "      <th>session_id</th>\n",
       "      <th>pageview_token</th>\n",
       "      <th>client_type</th>\n",
       "      <th>referring_domain</th>\n",
       "      <th>load_dt</th>\n",
       "      <th>...</th>\n",
       "      <th>wmf_app_version</th>\n",
       "      <th>city</th>\n",
       "      <th>continent</th>\n",
       "      <th>country</th>\n",
       "      <th>country_code</th>\n",
       "      <th>latitude</th>\n",
       "      <th>longitude</th>\n",
       "      <th>postal_code</th>\n",
       "      <th>subdivision</th>\n",
       "      <th>timezone</th>\n",
       "    </tr>\n",
       "  </thead>\n",
       "  <tbody>\n",
       "  </tbody>\n",
       "</table>\n",
       "<p>0 rows × 37 columns</p>\n",
       "</div>"
      ],
      "text/plain": [
       "Empty DataFrame\n",
       "Columns: [ip, wiki, dt, webhost, user_id, session_id, pageview_token, client_type, referring_domain, load_dt, page_open_time, page_visible_time, section_count, opened_section_count, page_namespace, is_main_page, is_search_page, app_version, browser_family, browser_major, browser_minor, device_family, is_bot, is_mediawiki, os_family, os_major, os_minor, wmf_app_version, city, continent, country, country_code, latitude, longitude, postal_code, subdivision, timezone]\n",
       "Index: []\n",
       "\n",
       "[0 rows x 37 columns]"
      ]
     },
     "execution_count": 262,
     "metadata": {},
     "output_type": "execute_result"
    }
   ],
   "source": [
    "app_events.query(\"section_count - opened_section_count < 0\")"
   ]
  },
  {
   "cell_type": "markdown",
   "metadata": {},
   "source": [
    "All events from the same pageview have the same namespace."
   ]
  },
  {
   "cell_type": "code",
   "execution_count": 271,
   "metadata": {},
   "outputs": [
    {
     "data": {
      "text/plain": [
       "True"
      ]
     },
     "execution_count": 271,
     "metadata": {},
     "output_type": "execute_result"
    }
   ],
   "source": [
    "(app_events.groupby(\"pageview_token\")[\"page_namespace\"].nunique() == 1).all()"
   ]
  },
  {
   "cell_type": "markdown",
   "metadata": {},
   "source": [
    "The namespaces are mostly the main page (-1) and articles (0), as expected. The other ones represented are Help, Project, and Template, which seems reasonable since those are sometimes linked from articles."
   ]
  },
  {
   "cell_type": "code",
   "execution_count": 269,
   "metadata": {},
   "outputs": [
    {
     "data": {
      "text/plain": [
       "-1     1121\n",
       " 0      824\n",
       " 12      27\n",
       " 4        4\n",
       " 10       1\n",
       "Name: page_namespace, dtype: int64"
      ]
     },
     "execution_count": 269,
     "metadata": {},
     "output_type": "execute_result"
    }
   ],
   "source": [
    "app_pvs[\"page_namespace\"].value_counts()"
   ]
  },
  {
   "cell_type": "markdown",
   "metadata": {},
   "source": [
    "The main page and the search page are always the same here, as expected."
   ]
  },
  {
   "cell_type": "code",
   "execution_count": 272,
   "metadata": {},
   "outputs": [
    {
     "data": {
      "text/plain": [
       "True"
      ]
     },
     "execution_count": 272,
     "metadata": {},
     "output_type": "execute_result"
    }
   ],
   "source": [
    "(app_events[\"is_main_page\"] == app_events[\"is_search_page\"]).all()"
   ]
  }
 ],
 "metadata": {
  "kernelspec": {
   "display_name": "Python 3",
   "language": "python",
   "name": "python3"
  },
  "language_info": {
   "codemirror_mode": {
    "name": "ipython",
    "version": 3
   },
   "file_extension": ".py",
   "mimetype": "text/x-python",
   "name": "python",
   "nbconvert_exporter": "python",
   "pygments_lexer": "ipython3",
   "version": "3.5.3"
  }
 },
 "nbformat": 4,
 "nbformat_minor": 2
}
